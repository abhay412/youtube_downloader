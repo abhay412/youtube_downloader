{
 "cells": [
  {
   "cell_type": "code",
   "execution_count": 1,
   "metadata": {},
   "outputs": [],
   "source": [
    "import tkinter as tk\n",
    "from tkinter import *\n",
    "import pytube\n",
    "from pytube import YouTube"
   ]
  },
  {
   "cell_type": "code",
   "execution_count": 2,
   "metadata": {},
   "outputs": [],
   "source": [
    "root=tk.Tk()\n",
    "root.geometry(\"340x550\")\n",
    "\n",
    "def video():\n",
    "    \n",
    "    try: \n",
    "        ydl_opts = {}\n",
    "        links=e.get()\n",
    "        with youtube_dl.YoutubeDL(ydl_opts) as ydl:\n",
    "#             ydl = youtube.streams.first()\n",
    "            ydl.download([links])\n",
    "            \n",
    "\n",
    "    except:\n",
    "        print(\" InValid URL:\")\n",
    "        \n",
    "        \n",
    "   \n",
    "lbl=Label(root,text=\"Save from Youtube \",fg=\"black\",bg=\"cyan\",font=(\"Courier 20 bold\"))\n",
    "lbl.grid(row=0,column=0,padx=0, pady=0,ipadx=10, ipady=0)\n",
    "\n",
    "\n",
    "\n",
    "e=Entry(root,width=25,fg=\"black\")\n",
    "e.grid(row=1,column=0,padx=10, pady=10,ipadx=70 , ipady=10)\n",
    "e.insert(0,\"Enter valid URL:\")\n",
    "\n",
    "\n",
    "\n",
    "bt_1=Button(root,text=\"\"\"⇉\n",
    "Download\n",
    "⇉\"\"\",fg=\"white\" ,bg=\"#c1c1c1\",command=lambda:video())\n",
    "bt_1.grid(row=2,column=0,padx=2, pady=10,ipadx=20 , ipady=0)\n",
    "\n",
    "lb1=Label(root,text=\"---------------or---------------\")\n",
    "lb1.grid(row=3,column=0,padx=2, pady=10,ipadx=20 , ipady=0)\n",
    "\n",
    "\n",
    "e1=Entry(root,width=5)\n",
    "e1.grid()\n",
    "\n",
    "def myclick():\n",
    "    mylabel=Label(root,text=\"OOPS!!! SOMETHING WENT WRONG!!\"+e1.get())\n",
    "    mylabel.grid()\n",
    "    \n",
    "bt_2=Button(root,text=\"\"\"Get it\n",
    "on \n",
    "google play\"\"\",fg=\"white\",bg=\"black\",font=(\"Arial 10 bold\"),command=myclick)\n",
    "bt_2.grid(row=4,column=0,padx=100, pady=50,ipadx=20 , ipady=0)\n",
    "\n",
    "\n",
    "# root.configure(background = 'black')\n",
    "root.mainloop()\n"
   ]
  },
  {
   "cell_type": "code",
   "execution_count": null,
   "metadata": {},
   "outputs": [],
   "source": []
  }
 ],
 "metadata": {
  "kernelspec": {
   "display_name": "Python 3",
   "language": "python",
   "name": "python3"
  },
  "language_info": {
   "codemirror_mode": {
    "name": "ipython",
    "version": 3
   },
   "file_extension": ".py",
   "mimetype": "text/x-python",
   "name": "python",
   "nbconvert_exporter": "python",
   "pygments_lexer": "ipython3",
   "version": "3.7.4"
  }
 },
 "nbformat": 4,
 "nbformat_minor": 2
}
